{
 "cells": [
  {
   "cell_type": "code",
   "execution_count": 2,
   "id": "d38fff23",
   "metadata": {
    "ExecuteTime": {
     "end_time": "2024-04-26T05:25:25.826335Z",
     "start_time": "2024-04-26T05:25:19.309676Z"
    }
   },
   "outputs": [],
   "source": [
    "import os\n",
    "import cv2\n",
    "from keras.preprocessing import image\n",
    "import matplotlib.pyplot as plt \n",
    "import numpy as np\n",
    "from keras.utils.np_utils import to_categorical\n",
    "import random,shutil\n",
    "import tensorflow as tf\n",
    "from keras.models import Sequential\n",
    "from keras.layers import Dropout,Conv2D,Flatten,Dense, MaxPooling2D, BatchNormalization\n",
    "from keras.models import load_model\n",
    "import json\n"
   ]
  },
  {
   "cell_type": "code",
   "execution_count": 3,
   "id": "62ef660c",
   "metadata": {
    "ExecuteTime": {
     "end_time": "2024-04-26T05:25:27.971086Z",
     "start_time": "2024-04-26T05:25:27.959579Z"
    }
   },
   "outputs": [],
   "source": [
    "def generator(dir, gen=image.ImageDataGenerator(rescale=1./255), shuffle=True,batch_size=1,target_size=(24,24),class_mode='categorical' ):\n",
    "\n",
    "    return gen.flow_from_directory(dir,batch_size=batch_size,shuffle=shuffle,color_mode='grayscale',class_mode=class_mode,target_size=target_size)\n"
   ]
  },
  {
   "cell_type": "code",
   "execution_count": 4,
   "id": "e08629d1",
   "metadata": {
    "ExecuteTime": {
     "end_time": "2024-04-26T05:25:29.467418Z",
     "start_time": "2024-04-26T05:25:29.120720Z"
    }
   },
   "outputs": [
    {
     "name": "stdout",
     "output_type": "stream",
     "text": [
      "Found 3200 images belonging to 2 classes.\n",
      "Found 800 images belonging to 2 classes.\n",
      "Found 30 images belonging to 2 classes.\n",
      "10 20 3\n"
     ]
    }
   ],
   "source": [
    "TS=(24,24)\n",
    "train_batch= generator('C:\\\\DISSERTATION ICBT\\\\final project\\\\Drowsiness_Detection_Application_CNN\\\\Python App\\\\data\\\\train',shuffle=True, batch_size=320,target_size=TS)\n",
    "valid_batch = generator('C:\\\\DISSERTATION ICBT\\\\final project\\\\Drowsiness_Detection_Application_CNN\\\\Python App\\\\data\\\\valid',shuffle=True, batch_size=40,target_size=TS)\n",
    "test_batch= generator('C:\\\\DISSERTATION ICBT\\\\final project\\\\Drowsiness_Detection_Application_CNN\\\\Python App\\\\data\\\\test',shuffle=True, batch_size=10,target_size=TS)\n",
    "Train = len(train_batch.classes)//320\n",
    "Valid = len(valid_batch.classes)//40\n",
    "Test = len(test_batch.classes)//10\n",
    "print(Train,Valid,Test)"
   ]
  },
  {
   "cell_type": "code",
   "execution_count": 5,
   "id": "9ece0ce8",
   "metadata": {
    "ExecuteTime": {
     "end_time": "2024-04-26T05:25:31.667674Z",
     "start_time": "2024-04-26T05:25:31.409851Z"
    }
   },
   "outputs": [],
   "source": [
    "model = Sequential([\n",
    "    Conv2D(32, kernel_size=(3, 3), activation='relu', input_shape=(24,24,1)),\n",
    "    MaxPooling2D(pool_size=(1,1)),\n",
    "    Conv2D(32,(3,3),activation='relu'),\n",
    "    MaxPooling2D(pool_size=(1,1)),\n",
    "    Conv2D(64, (3, 3), activation='relu'),\n",
    "    MaxPooling2D(pool_size=(1,1)),\n",
    "#64 convolution filters used each of size 3x3\n",
    "#choose the best features via pooling\n",
    "#randomly turn neurons on and off to improve convergence\n",
    "    Dropout(0.25),\n",
    "#flatten since too many dimensions, we only want a classification output\n",
    "    Flatten(),\n",
    "#fully connected to get all relevant data\n",
    "    Dense(128, activation='relu'),\n",
    "#one more dropout for convergence' sake :) \n",
    "    Dropout(0.5),\n",
    "#output a softmax to squash the matrix into output probabilities\n",
    "    Dense(2, activation='softmax')\n",
    "])"
   ]
  },
  {
   "cell_type": "code",
   "execution_count": 6,
   "id": "d9f2e6d0",
   "metadata": {
    "ExecuteTime": {
     "end_time": "2024-04-26T05:25:33.512109Z",
     "start_time": "2024-04-26T05:25:33.464404Z"
    }
   },
   "outputs": [
    {
     "name": "stdout",
     "output_type": "stream",
     "text": [
      "Model: \"sequential\"\n",
      "_________________________________________________________________\n",
      " Layer (type)                Output Shape              Param #   \n",
      "=================================================================\n",
      " conv2d (Conv2D)             (None, 22, 22, 32)        320       \n",
      "                                                                 \n",
      " max_pooling2d (MaxPooling2D  (None, 22, 22, 32)       0         \n",
      " )                                                               \n",
      "                                                                 \n",
      " conv2d_1 (Conv2D)           (None, 20, 20, 32)        9248      \n",
      "                                                                 \n",
      " max_pooling2d_1 (MaxPooling  (None, 20, 20, 32)       0         \n",
      " 2D)                                                             \n",
      "                                                                 \n",
      " conv2d_2 (Conv2D)           (None, 18, 18, 64)        18496     \n",
      "                                                                 \n",
      " max_pooling2d_2 (MaxPooling  (None, 18, 18, 64)       0         \n",
      " 2D)                                                             \n",
      "                                                                 \n",
      " dropout (Dropout)           (None, 18, 18, 64)        0         \n",
      "                                                                 \n",
      " flatten (Flatten)           (None, 20736)             0         \n",
      "                                                                 \n",
      " dense (Dense)               (None, 128)               2654336   \n",
      "                                                                 \n",
      " dropout_1 (Dropout)         (None, 128)               0         \n",
      "                                                                 \n",
      " dense_1 (Dense)             (None, 2)                 258       \n",
      "                                                                 \n",
      "=================================================================\n",
      "Total params: 2,682,658\n",
      "Trainable params: 2,682,658\n",
      "Non-trainable params: 0\n",
      "_________________________________________________________________\n"
     ]
    }
   ],
   "source": [
    "model.summary()"
   ]
  },
  {
   "cell_type": "code",
   "execution_count": 7,
   "id": "3762181f",
   "metadata": {
    "ExecuteTime": {
     "end_time": "2024-04-26T05:25:35.251905Z",
     "start_time": "2024-04-26T05:25:35.225725Z"
    }
   },
   "outputs": [],
   "source": [
    "#The Adam optimization algorithm is an extension to stochastic gradient descent, loss function is for calculating loss\n",
    "model.compile(optimizer='adam',loss='categorical_crossentropy',metrics=['accuracy'])"
   ]
  },
  {
   "cell_type": "code",
   "execution_count": 8,
   "id": "93951deb",
   "metadata": {
    "ExecuteTime": {
     "end_time": "2024-04-26T05:26:57.962677Z",
     "start_time": "2024-04-26T05:25:36.642434Z"
    }
   },
   "outputs": [
    {
     "name": "stderr",
     "output_type": "stream",
     "text": [
      "C:\\Users\\Lavan\\AppData\\Local\\Temp\\ipykernel_25248\\3630582741.py:6: UserWarning: `Model.fit_generator` is deprecated and will be removed in a future version. Please use `Model.fit`, which supports generators.\n",
      "  history = model.fit_generator(train_batch, validation_data=valid_batch,epochs=20,steps_per_epoch=10 ,validation_steps=20,verbose=2)\n"
     ]
    },
    {
     "name": "stdout",
     "output_type": "stream",
     "text": [
      "Epoch 1/20\n",
      "10/10 - 6s - loss: 0.6166 - accuracy: 0.7134 - val_loss: 0.4308 - val_accuracy: 0.8300 - 6s/epoch - 623ms/step\n",
      "Epoch 2/20\n",
      "10/10 - 3s - loss: 0.3045 - accuracy: 0.8662 - val_loss: 0.1981 - val_accuracy: 0.9025 - 3s/epoch - 347ms/step\n",
      "Epoch 3/20\n",
      "10/10 - 4s - loss: 0.1782 - accuracy: 0.9262 - val_loss: 0.1253 - val_accuracy: 0.9538 - 4s/epoch - 417ms/step\n",
      "Epoch 4/20\n",
      "10/10 - 4s - loss: 0.1176 - accuracy: 0.9566 - val_loss: 0.1194 - val_accuracy: 0.9438 - 4s/epoch - 395ms/step\n",
      "Epoch 5/20\n",
      "10/10 - 4s - loss: 0.0843 - accuracy: 0.9731 - val_loss: 0.0713 - val_accuracy: 0.9775 - 4s/epoch - 395ms/step\n",
      "Epoch 6/20\n",
      "10/10 - 4s - loss: 0.0561 - accuracy: 0.9853 - val_loss: 0.0427 - val_accuracy: 0.9875 - 4s/epoch - 389ms/step\n",
      "Epoch 7/20\n",
      "10/10 - 4s - loss: 0.0336 - accuracy: 0.9906 - val_loss: 0.0298 - val_accuracy: 0.9875 - 4s/epoch - 383ms/step\n",
      "Epoch 8/20\n",
      "10/10 - 4s - loss: 0.0309 - accuracy: 0.9916 - val_loss: 0.0341 - val_accuracy: 0.9900 - 4s/epoch - 380ms/step\n",
      "Epoch 9/20\n",
      "10/10 - 4s - loss: 0.0254 - accuracy: 0.9925 - val_loss: 0.0285 - val_accuracy: 0.9925 - 4s/epoch - 381ms/step\n",
      "Epoch 10/20\n",
      "10/10 - 4s - loss: 0.0212 - accuracy: 0.9941 - val_loss: 0.0221 - val_accuracy: 0.9925 - 4s/epoch - 413ms/step\n",
      "Epoch 11/20\n",
      "10/10 - 4s - loss: 0.0161 - accuracy: 0.9947 - val_loss: 0.0149 - val_accuracy: 0.9962 - 4s/epoch - 445ms/step\n",
      "Epoch 12/20\n",
      "10/10 - 4s - loss: 0.0097 - accuracy: 0.9975 - val_loss: 0.0137 - val_accuracy: 0.9962 - 4s/epoch - 415ms/step\n",
      "Epoch 13/20\n",
      "10/10 - 4s - loss: 0.0082 - accuracy: 0.9981 - val_loss: 0.0148 - val_accuracy: 0.9962 - 4s/epoch - 397ms/step\n",
      "Epoch 14/20\n",
      "10/10 - 4s - loss: 0.0100 - accuracy: 0.9975 - val_loss: 0.0249 - val_accuracy: 0.9900 - 4s/epoch - 386ms/step\n",
      "Epoch 15/20\n",
      "10/10 - 4s - loss: 0.0149 - accuracy: 0.9950 - val_loss: 0.0142 - val_accuracy: 0.9975 - 4s/epoch - 377ms/step\n",
      "Epoch 16/20\n",
      "10/10 - 4s - loss: 0.0083 - accuracy: 0.9975 - val_loss: 0.0104 - val_accuracy: 0.9962 - 4s/epoch - 379ms/step\n",
      "Epoch 17/20\n",
      "10/10 - 4s - loss: 0.0046 - accuracy: 0.9991 - val_loss: 0.0120 - val_accuracy: 0.9962 - 4s/epoch - 373ms/step\n",
      "Epoch 18/20\n",
      "10/10 - 4s - loss: 0.0031 - accuracy: 0.9994 - val_loss: 0.0106 - val_accuracy: 0.9962 - 4s/epoch - 403ms/step\n",
      "Epoch 19/20\n",
      "10/10 - 4s - loss: 0.0025 - accuracy: 0.9994 - val_loss: 0.0085 - val_accuracy: 0.9962 - 4s/epoch - 373ms/step\n",
      "Epoch 20/20\n",
      "10/10 - 4s - loss: 0.0020 - accuracy: 0.9994 - val_loss: 0.0064 - val_accuracy: 0.9975 - 4s/epoch - 382ms/step\n"
     ]
    }
   ],
   "source": [
    "#our model will train on train_batches and will validate on valid_batches, We have made 20 epochs.\n",
    "#Verbose is 2, which just specifies the verbosity of the log output printed to the console during training.\n",
    "#We have 3200 training images and 320 per batch so steps_per_epoch is 10\n",
    "#we have 800 validation images and 40 per batch so validation_steps is 20\n",
    "\n",
    "history = model.fit_generator(train_batch, validation_data=valid_batch,epochs=20,steps_per_epoch=10 ,validation_steps=20,verbose=2)"
   ]
  },
  {
   "cell_type": "code",
   "execution_count": null,
   "id": "b152a497",
   "metadata": {},
   "outputs": [],
   "source": [
    "plt.figure(1)\n",
    "plt.plot(history.history['accuracy'])\n",
    "plt.plot(history.history['val_accuracy'])\n",
    "plt.legend(['Training', 'Validation'])\n",
    "plt.title('Accuracy')\n",
    "plt.xlabel('Epochs')\n",
    "plt.figure(2)\n",
    "plt.plot(history.history['loss'])\n",
    "plt.plot(history.history['val_loss'])\n",
    "plt.legend(['Training', 'Validation'])\n",
    "plt.title('Loss')\n",
    "plt.xlabel('Epochs')\n",
    "plt.show()\n",
    "     "
   ]
  },
  {
   "cell_type": "code",
   "execution_count": null,
   "id": "53764783",
   "metadata": {},
   "outputs": [],
   "source": [
    "accuracy = history.history['accuracy']\n",
    "val_accuracy = history.history['val_accuracy']\n",
    "loss = history.history['loss']\n",
    "val_loss = history.history['val_loss']\n",
    "epochs = range(len(accuracy))"
   ]
  },
  {
   "cell_type": "code",
   "execution_count": null,
   "id": "1fff127a",
   "metadata": {},
   "outputs": [],
   "source": [
    "plt.plot(epochs, accuracy, \"b\", label=\"Training accuracy\")\n",
    "plt.plot(epochs, val_accuracy, \"r\", label=\"Testing accuracy\")\n",
    "plt.legend()\n",
    "plt.show()"
   ]
  },
  {
   "cell_type": "code",
   "execution_count": null,
   "id": "c122be9e",
   "metadata": {},
   "outputs": [],
   "source": [
    "plt.plot(epochs, loss, \"b\", label=\"Training loss\")\n",
    "plt.plot(epochs, val_loss, \"r\", label=\"Testing loss\")\n",
    "plt.legend()\n",
    "plt.show()"
   ]
  },
  {
   "cell_type": "code",
   "execution_count": 9,
   "id": "2a1afe56",
   "metadata": {
    "ExecuteTime": {
     "end_time": "2024-04-26T05:27:02.683618Z",
     "start_time": "2024-04-26T05:27:02.572425Z"
    }
   },
   "outputs": [],
   "source": [
    "model.save('model/trained.h5', overwrite=True) #Saving our model"
   ]
  },
  {
   "cell_type": "code",
   "execution_count": 10,
   "id": "ab2cb7e1",
   "metadata": {
    "ExecuteTime": {
     "end_time": "2024-04-26T05:27:07.681874Z",
     "start_time": "2024-04-26T05:27:05.216919Z"
    }
   },
   "outputs": [
    {
     "name": "stderr",
     "output_type": "stream",
     "text": [
      "WARNING:absl:Found untraced functions such as _jit_compiled_convolution_op, _jit_compiled_convolution_op, _jit_compiled_convolution_op while saving (showing 3 of 3). These functions will not be directly callable after loading.\n"
     ]
    },
    {
     "name": "stdout",
     "output_type": "stream",
     "text": [
      "INFO:tensorflow:Assets written to: C:\\Users\\Lavan\\AppData\\Local\\Temp\\tmpdxkca681\\assets\n"
     ]
    },
    {
     "name": "stderr",
     "output_type": "stream",
     "text": [
      "INFO:tensorflow:Assets written to: C:\\Users\\Lavan\\AppData\\Local\\Temp\\tmpdxkca681\\assets\n"
     ]
    }
   ],
   "source": [
    "# Convert the Keras model to TensorFlow Lite\n",
    "converter = tf.lite.TFLiteConverter.from_keras_model(model)\n",
    "tflite_model = converter.convert()\n",
    "\n",
    "# Save the TensorFlow Lite model to a file\n",
    "with open('model/trained.tflite', 'wb') as f:\n",
    "    f.write(tflite_model)"
   ]
  },
  {
   "cell_type": "code",
   "execution_count": 11,
   "id": "8bc4465c",
   "metadata": {
    "ExecuteTime": {
     "end_time": "2024-04-26T05:27:14.718654Z",
     "start_time": "2024-04-26T05:27:12.322144Z"
    }
   },
   "outputs": [
    {
     "name": "stderr",
     "output_type": "stream",
     "text": [
      "WARNING:absl:Found untraced functions such as _jit_compiled_convolution_op, _jit_compiled_convolution_op, _jit_compiled_convolution_op while saving (showing 3 of 3). These functions will not be directly callable after loading.\n"
     ]
    },
    {
     "name": "stdout",
     "output_type": "stream",
     "text": [
      "INFO:tensorflow:Assets written to: C:\\Users\\Lavan\\AppData\\Local\\Temp\\tmpnyn7hfj_\\assets\n"
     ]
    },
    {
     "name": "stderr",
     "output_type": "stream",
     "text": [
      "INFO:tensorflow:Assets written to: C:\\Users\\Lavan\\AppData\\Local\\Temp\\tmpnyn7hfj_\\assets\n"
     ]
    }
   ],
   "source": [
    "converter = tf.lite.TFLiteConverter.from_keras_model(model)\n",
    "tflite_model = converter.convert()\n",
    "\n",
    "# Save the TensorFlow Lite model to a file\n",
    "with open('model/trained.tflite', 'wb') as f:\n",
    "    f.write(tflite_model)\n",
    "\n",
    "# Load the TensorFlow Lite model\n",
    "interpreter = tf.lite.Interpreter(model_path='model/trained.tflite')\n",
    "interpreter.allocate_tensors()\n",
    "\n",
    "# Get input and output details\n",
    "input_details = interpreter.get_input_details()\n",
    "output_details = interpreter.get_output_details()\n",
    "\n",
    "# Create metadata dictionary\n",
    "metadata = {\n",
    "    \"input\": {\n",
    "        \"name\": input_details[0]['name'],\n",
    "        \"shape\": input_details[0]['shape'].tolist(),\n",
    "        \"dtype\": str(input_details[0]['dtype'])\n",
    "    },\n",
    "    \"output\": {\n",
    "        \"name\": output_details[0]['name'],\n",
    "        \"shape\": output_details[0]['shape'].tolist(),\n",
    "        \"dtype\": str(output_details[0]['dtype'])\n",
    "    }\n",
    "}\n",
    "\n",
    "# Save metadata as JSON\n",
    "with open('model/trained.json', 'w') as f:\n",
    "    json.dump(metadata, f)\n"
   ]
  },
  {
   "cell_type": "code",
   "execution_count": null,
   "id": "779fddd5",
   "metadata": {},
   "outputs": [],
   "source": []
  },
  {
   "cell_type": "code",
   "execution_count": null,
   "id": "56f1899e",
   "metadata": {
    "ExecuteTime": {
     "start_time": "2024-04-25T09:22:17.676827Z"
    },
    "jupyter": {
     "is_executing": true
    }
   },
   "outputs": [],
   "source": []
  },
  {
   "cell_type": "code",
   "execution_count": null,
   "id": "3b808974",
   "metadata": {},
   "outputs": [],
   "source": []
  }
 ],
 "metadata": {
  "kernelspec": {
   "display_name": "Python 3 (ipykernel)",
   "language": "python",
   "name": "python3"
  },
  "language_info": {
   "codemirror_mode": {
    "name": "ipython",
    "version": 3
   },
   "file_extension": ".py",
   "mimetype": "text/x-python",
   "name": "python",
   "nbconvert_exporter": "python",
   "pygments_lexer": "ipython3",
   "version": "3.10.13"
  }
 },
 "nbformat": 4,
 "nbformat_minor": 5
}
